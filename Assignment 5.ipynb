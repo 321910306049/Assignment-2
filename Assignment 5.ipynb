{
  "nbformat": 4,
  "nbformat_minor": 0,
  "metadata": {
    "colab": {
      "name": "Untitled5.ipynb",
      "provenance": [],
      "authorship_tag": "ABX9TyMcJuA0dS2pcJ6JleD37sy3",
      "include_colab_link": true
    },
    "kernelspec": {
      "name": "python3",
      "display_name": "Python 3"
    }
  },
  "cells": [
    {
      "cell_type": "markdown",
      "metadata": {
        "id": "view-in-github",
        "colab_type": "text"
      },
      "source": [
        "<a href=\"https://colab.research.google.com/github/321910306049/Assignment-2/blob/master/Assignment%205.ipynb\" target=\"_parent\"><img src=\"https://colab.research.google.com/assets/colab-badge.svg\" alt=\"Open In Colab\"/></a>"
      ]
    },
    {
      "cell_type": "code",
      "metadata": {
        "id": "ywulp2RU9QZ8",
        "colab_type": "code",
        "colab": {
          "base_uri": "https://localhost:8080/",
          "height": 51
        },
        "outputId": "38858980-4481-465b-e4b1-5bad15ce6bc7"
      },
      "source": [
        " #pay computation to employee\n",
        "score = input(\"Enter score: \")\n",
        "score = float(score)\n",
        "if score>1.0 or score<0.0 :\n",
        "  print(\"error\")\n",
        "elif score>=0.9 :\n",
        "  print ('A')\n",
        "elif score>=0.8 :\n",
        "  print ('B')\n",
        "elif score>=0.7 :\n",
        "  print ('C') \n",
        "elif score>=0.6 :\n",
        "  print ('D')\n",
        "else :\n",
        "  print ('F')"
      ],
      "execution_count": 1,
      "outputs": [
        {
          "output_type": "stream",
          "text": [
            "Enter score: 0.95\n",
            "A\n"
          ],
          "name": "stdout"
        }
      ]
    },
    {
      "cell_type": "code",
      "metadata": {
        "id": "LriSCPVk9jcb",
        "colab_type": "code",
        "colab": {
          "base_uri": "https://localhost:8080/",
          "height": 68
        },
        "outputId": "e150c822-2018-4c9a-dac4-13b55644c452"
      },
      "source": [
        " #using try and except \n",
        "try:\n",
        "    hour = int(input(\"Enter Hour: \"))\n",
        "    rate = int(input(\"Enter Rate: \"))\n",
        "    if hour <= 40:\n",
        "        print(hour * rate)\n",
        "    elif hour > 40:\n",
        "        print((hour * rate)+(hour - 40) * (rate * 0.5))\n",
        "except:\n",
        "    print(\"error,please enter numeric input\")"
      ],
      "execution_count": 2,
      "outputs": [
        {
          "output_type": "stream",
          "text": [
            "Enter Hour: 20\n",
            "Enter Rate: 9\n",
            "180\n"
          ],
          "name": "stdout"
        }
      ]
    },
    {
      "cell_type": "code",
      "metadata": {
        "id": "Z8n_1Exf9sIS",
        "colab_type": "code",
        "colab": {
          "base_uri": "https://localhost:8080/",
          "height": 68
        },
        "outputId": "4d067c0f-850f-4e89-95e4-12c8d520f518"
      },
      "source": [
        " #to prompt a score\n",
        "hrs = input(\"Enter Hours:\")\n",
        "h = float(hrs)\n",
        "xx = input(\"Enter the Rate:\")\n",
        "x = float(xx)\n",
        "if h <= 40:\n",
        "   print( h * x)\n",
        "elif h > 40:\n",
        "   print(40*x + (h-40)*1.5*x)"
      ],
      "execution_count": 3,
      "outputs": [
        {
          "output_type": "stream",
          "text": [
            "Enter Hours:45\n",
            "Enter the Rate:9\n",
            "427.5\n"
          ],
          "name": "stdout"
        }
      ]
    }
  ]
}